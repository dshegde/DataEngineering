{
 "cells": [
  {
   "cell_type": "code",
   "execution_count": 77,
   "id": "db45a952",
   "metadata": {},
   "outputs": [],
   "source": [
    "import pandas as pd\n",
    "import numpy as np\n",
    "import matplotlib.pyplot as mp\n",
    "import seaborn as sns\n",
    "import re\n",
    "import datetime as dt"
   ]
  },
  {
   "cell_type": "code",
   "execution_count": 136,
   "id": "88c263da",
   "metadata": {},
   "outputs": [
    {
     "name": "stdout",
     "output_type": "stream",
     "text": [
      "           TractId        State           County  TotalPop  IncomePerCap  \\\n",
      "0       1001020100      Alabama   Autauga County      1845       33018.0   \n",
      "1       1001020200      Alabama   Autauga County      2172       18996.0   \n",
      "2       1001020300      Alabama   Autauga County      3385       21236.0   \n",
      "3       1001020400      Alabama   Autauga County      4267       28068.0   \n",
      "4       1001020500      Alabama   Autauga County      9965       36905.0   \n",
      "...            ...          ...              ...       ...           ...   \n",
      "73996  72153750501  Puerto Rico  Yauco Municipio      6011        8643.0   \n",
      "73997  72153750502  Puerto Rico  Yauco Municipio      2342       11109.0   \n",
      "73998  72153750503  Puerto Rico  Yauco Municipio      2218        9603.0   \n",
      "73999  72153750601  Puerto Rico  Yauco Municipio      4380        8331.0   \n",
      "74000  72153750602  Puerto Rico  Yauco Municipio      3001        6251.0   \n",
      "\n",
      "       Poverty  \n",
      "0         10.7  \n",
      "1         22.4  \n",
      "2         14.7  \n",
      "3          2.3  \n",
      "4         12.2  \n",
      "...        ...  \n",
      "73996     39.4  \n",
      "73997     35.5  \n",
      "73998     52.8  \n",
      "73999     50.1  \n",
      "74000     69.4  \n",
      "\n",
      "[74001 rows x 6 columns]\n"
     ]
    }
   ],
   "source": [
    "## Read csv to dataframes\n",
    "\n",
    "census_df = pd.read_csv('acs2017_census_tract_data.csv', usecols = ['TractId', 'State', 'County', 'TotalPop', 'Poverty', 'IncomePerCap'])\n",
    "print(census_df)\n",
    "# census_df.to_csv('county.csv')\n",
    "covid_df = pd.read_csv('COVID_county_data.csv', usecols = ['county', 'date', 'cases', 'deaths', 'state'])\n",
    "# print(covid_df)\n"
   ]
  },
  {
   "cell_type": "code",
   "execution_count": null,
   "id": "2df47389",
   "metadata": {},
   "outputs": [],
   "source": [
    "## Transform data in the dataframes\n",
    "## most populus and least populus county\n",
    "\n",
    "tempdf = census_df[['County', 'TotalPop', 'State']]\n",
    "tempdf_grouped = tempdf.groupby('County').sum()\n",
    "# tempdf.to_csv('xxx.csv')\n",
    "sort_desc = tempdf_grouped.sort_values(by='TotalPop', ascending=False)\n",
    "sort_asc = tempdf_grouped.sort_values(by='TotalPop', ascending=True)\n",
    "minval = tempdf_grouped['TotalPop'].min()\n",
    "maxval = tempdf_grouped['TotalPop'].max()\n",
    "state_name1 = tempdf.loc[tempdf['County'] == 'Loving County']\n",
    "state_name2 = tempdf.loc[tempdf['County'] == 'Los Angeles County']\n",
    "print(state_name1)\n",
    "print(state_name2)\n",
    "\n",
    "\n"
   ]
  },
  {
   "cell_type": "code",
   "execution_count": 117,
   "id": "f6861dae",
   "metadata": {},
   "outputs": [
    {
     "name": "stdout",
     "output_type": "stream",
     "text": [
      "        county       state  population    poverty  perCapitaIncome  \\\n",
      "0      Loudoun    Virginia      374558   3.884375     50391.015625   \n",
      "1   Washington      Oregon      572071  10.446154     34970.817308   \n",
      "2       Harlan    Kentucky       27548  33.318182     16010.363636   \n",
      "3      Malheur      Oregon       30421  24.414286     17966.428571   \n",
      "4  Los Angeles  California    10105722  17.323803     31389.413867   \n",
      "5       Loving       Texas          74  17.100000     35530.000000   \n",
      "\n",
      "   Foreign_Key  \n",
      "0            2  \n",
      "1            5  \n",
      "2            0  \n",
      "3            4  \n",
      "4            1  \n",
      "5            3  \n"
     ]
    }
   ],
   "source": [
    "## Section A\n",
    "\n",
    "column_names = ['county', 'state', 'population', 'poverty', 'perCapitaIncome']\n",
    "counties = ['Loudoun', 'Washington', 'Harlan', 'Malheur', 'Los Angeles', 'Loving']\n",
    "states = ['Virginia', 'Oregon', 'Kentucky', 'Oregon', 'California', 'Texas']\n",
    "full_list = []\n",
    "for i in range(len(counties)):\n",
    "    row_list = []\n",
    "    county_df = census_df.loc[census_df['County'] == counties[i]+' County']\n",
    "#     print(county_df)\n",
    "    county_state_df = county_df[county_df['State']==states[i]]\n",
    "#     print(county_state_df)\n",
    "    row_list.append(counties[i])\n",
    "    row_list.append(states[i])\n",
    "    row_list.append(county_state_df['TotalPop'].sum(axis=0))\n",
    "    row_list.append(county_state_df['Poverty'].mean(axis=0))\n",
    "    row_list.append(county_state_df['IncomePerCap'].mean(axis=0))\n",
    "    full_list.append(row_list)\n",
    "# print(full_list)\n",
    "column_names_df = pd.DataFrame(full_list, columns = column_names)\n",
    "print(column_names_df)"
   ]
  },
  {
   "cell_type": "code",
   "execution_count": 125,
   "id": "8d90de10",
   "metadata": {},
   "outputs": [
    {
     "name": "stdout",
     "output_type": "stream",
     "text": [
      "         county     date  total cases  total deaths\n",
      "0       Malheur  2020-02            0           0.0\n",
      "1       Loudoun  2020-02            0           0.0\n",
      "2    Washington  2020-02            2           0.0\n",
      "3        Harlan  2020-02            0           0.0\n",
      "4   Los Angeles  2020-02           29           0.0\n",
      "5        Loving  2020-02            0           0.0\n",
      "6       Malheur  2020-08        28163         459.0\n",
      "7       Loudoun  2020-08       170217        3568.0\n",
      "8    Washington  2020-08       102538         934.0\n",
      "9        Harlan  2020-08         7741         128.0\n",
      "10  Los Angeles  2020-08      6796228      163012.0\n",
      "11       Loving  2020-08            0           0.0\n",
      "12      Malheur  2021-01        96297        1627.0\n",
      "13      Loudoun  2021-01       521825        5202.0\n",
      "14   Washington  2021-01       566205        5184.0\n",
      "15       Harlan  2021-01        60120         935.0\n",
      "16  Los Angeles  2021-01     30373784      420373.0\n",
      "17       Loving  2021-01           31           0.0\n"
     ]
    }
   ],
   "source": [
    "## Section B (specific to the given table)\n",
    "\n",
    "column_names1 = ['county', 'date', 'total cases', 'total deaths']\n",
    "month = ['2020-02', '2020-08', '2021-01']\n",
    "counties1 = ['Malheur', 'Loudoun', 'Washington', 'Harlan', 'Los Angeles', 'Loving']\n",
    "states1 = ['Oregon', 'Virginia', 'Oregon', 'Kentucky', 'California', 'Texas']\n",
    "\n",
    "# print(covid_df)\n",
    "dftemp = covid_df\n",
    "dftemp['month_year'] = pd.to_datetime(dftemp['date']).dt.to_period('M')\n",
    "date_df = dftemp.groupby(['month_year', 'county']).count().reset_index()\n",
    "# print(date_df)\n",
    "full_list1 = []\n",
    "for i in range(len(month)):\n",
    "#     row_list1 = []\n",
    "    filter_date = dftemp[dftemp['month_year'] == month[i]]\n",
    "#     print(filter_date)\n",
    "    for j in range(len(counties1)):\n",
    "#     print(filter_date)\n",
    "        row_list1 = []\n",
    "        county_df1 = filter_date[filter_date['county'] == counties1[j]]\n",
    "#         print(county_df1)\n",
    "        state_df1 = county_df1[county_df1['state'] == states1[j]]\n",
    "#         print(state_df1)\n",
    "        row_list1.append(counties1[j])\n",
    "        row_list1.append(month[i])\n",
    "        row_list1.append(state_df1['cases'].sum(axis=0))\n",
    "        row_list1.append(state_df1['deaths'].sum(axis=0))\n",
    "        full_list1.append(row_list1)\n",
    "#         print(full_list1)\n",
    "column_names_df1 = pd.DataFrame(full_list1, columns = column_names1)\n",
    "print(column_names_df1)\n"
   ]
  },
  {
   "cell_type": "code",
   "execution_count": 139,
   "id": "9941b058",
   "metadata": {},
   "outputs": [
    {
     "name": "stdout",
     "output_type": "stream",
     "text": [
      "        county  total cases  total deaths\n",
      "0      Malheur       453634        7770.0\n",
      "1      Loudoun      2496450       35820.0\n",
      "2   Washington      2157339       22455.0\n",
      "3       Harlan       205984        3994.0\n",
      "4  Los Angeles    113447043     2122011.0\n",
      "5       Loving           96           0.0\n"
     ]
    }
   ],
   "source": [
    "## Section B (total value for all the months without month filter)\n",
    "\n",
    "countiesx = ['Malheur', 'Loudoun', 'Washington', 'Harlan', 'Los Angeles', 'Loving']\n",
    "statesx = ['Oregon', 'Virginia', 'Oregon', 'Kentucky', 'California', 'Texas']\n",
    "column_namesx = ['county', 'total cases', 'total deaths']\n",
    "full_listx = []\n",
    "for i in range(len(countiesx)):\n",
    "    row_listx = []\n",
    "    county_dfx = dftemp[dftemp['county'] == countiesx[i]]\n",
    "#         print(county_df1)\n",
    "    state_dfx = county_dfx[county_dfx['state'] == statesx[i]]\n",
    "#         print(state_df1)\n",
    "    row_listx.append(countiesx[i])\n",
    "    row_listx.append(state_dfx['cases'].sum(axis=0))\n",
    "    row_listx.append(state_dfx['deaths'].sum(axis=0))\n",
    "    full_listx.append(row_listx)\n",
    "#         print(full_list1)\n",
    "column_names_dfx = pd.DataFrame(full_listx, columns = column_namesx)\n",
    "print(column_names_dfx)\n",
    "\n"
   ]
  },
  {
   "cell_type": "code",
   "execution_count": 141,
   "id": "00e6cfd1",
   "metadata": {},
   "outputs": [
    {
     "name": "stdout",
     "output_type": "stream",
     "text": [
      "        county       state  population    poverty  perCapitaIncome  \\\n",
      "0      Loudoun    Virginia      374558   3.884375     50391.015625   \n",
      "1   Washington      Oregon      572071  10.446154     34970.817308   \n",
      "2       Harlan    Kentucky       27548  33.318182     16010.363636   \n",
      "3      Malheur      Oregon       30421  24.414286     17966.428571   \n",
      "4  Los Angeles  California    10105722  17.323803     31389.413867   \n",
      "5       Loving       Texas          74  17.100000     35530.000000   \n",
      "\n",
      "   Foreign_Key  total cases  total deaths  \n",
      "0            2      2496450       35820.0  \n",
      "1            5      2157339       22455.0  \n",
      "2            0       205984        3994.0  \n",
      "3            4       453634        7770.0  \n",
      "4            1    113447043     2122011.0  \n",
      "5            3           96           0.0  \n"
     ]
    }
   ],
   "source": [
    "## Section C\n",
    "\n",
    "COVID_summary = pd.merge(column_names_df, column_names_dfx, on='county', how='outer')\n",
    "print (COVID_summary)\n"
   ]
  },
  {
   "cell_type": "code",
   "execution_count": 142,
   "id": "b9f6b47a",
   "metadata": {},
   "outputs": [
    {
     "name": "stdout",
     "output_type": "stream",
     "text": [
      "        county    poverty  TotalCasesPer100K  TotalDeathsPer100K\n",
      "0      Malheur  24.414286            4.53634             0.07770\n",
      "1      Loudoun   3.884375           24.96450             0.35820\n",
      "2   Washington  10.446154           21.57339             0.22455\n",
      "3       Harlan  33.318182            2.05984             0.03994\n",
      "4  Los Angeles  17.323803         1134.47043            21.22011\n",
      "5       Loving  17.100000            0.00096             0.00000\n"
     ]
    }
   ],
   "source": [
    "## Section C\n",
    "\n",
    "column_names2 = ['county', 'poverty', 'TotalCasesPer100K', 'TotalDeathsPer100K']\n",
    "full_list2 = []\n",
    "for i in range(len(counties1)):\n",
    "    row_list2 = []\n",
    "    filter_county = COVID_summary[COVID_summary['county'] == counties1[i]]\n",
    "    row_list2.append(counties1[i])\n",
    "    row_list2.append(filter_county['poverty'].sum(axis = 0))\n",
    "    total_cases = filter_county['total cases'].sum(axis = 0)\n",
    "    row_list2.append(total_cases/100000)\n",
    "    total_deaths = filter_county['total deaths'].sum(axis = 0)\n",
    "    row_list2.append(total_deaths/100000)\n",
    "    full_list2.append(row_list2)\n",
    "merged_df = pd.DataFrame(full_list2, columns = column_names2)\n",
    "print(merged_df)\n",
    "    "
   ]
  },
  {
   "cell_type": "code",
   "execution_count": null,
   "id": "8c3a7466",
   "metadata": {},
   "outputs": [],
   "source": []
  }
 ],
 "metadata": {
  "kernelspec": {
   "display_name": "Python 3 (ipykernel)",
   "language": "python",
   "name": "python3"
  },
  "language_info": {
   "codemirror_mode": {
    "name": "ipython",
    "version": 3
   },
   "file_extension": ".py",
   "mimetype": "text/x-python",
   "name": "python",
   "nbconvert_exporter": "python",
   "pygments_lexer": "ipython3",
   "version": "3.9.7"
  }
 },
 "nbformat": 4,
 "nbformat_minor": 5
}
